{
 "cells": [
  {
   "cell_type": "markdown",
   "metadata": {},
   "source": [
    "## Check Palindrome"
   ]
  },
  {
   "cell_type": "code",
   "execution_count": null,
   "metadata": {},
   "outputs": [],
   "source": [
    "str=input()\n",
    "if str==str[::-1]:\n",
    "    print(\"true\")\n",
    "else:\n",
    "    print(\"false\")"
   ]
  },
  {
   "cell_type": "markdown",
   "metadata": {},
   "source": [
    "## Check Permutation"
   ]
  },
  {
   "cell_type": "code",
   "execution_count": null,
   "metadata": {},
   "outputs": [],
   "source": [
    "s=input()\n",
    "d=input()\n",
    "if sorted(d)==sorted(s):\n",
    "    print(\"true\")\n",
    "else:\n",
    "    print(\"false\")"
   ]
  },
  {
   "cell_type": "markdown",
   "metadata": {},
   "source": [
    "## Remove Consecutive Duplicates"
   ]
  },
  {
   "cell_type": "code",
   "execution_count": null,
   "metadata": {},
   "outputs": [],
   "source": [
    "s=input()\n",
    "s=s+\" \"\n",
    "for i in range(len(s)-1):\n",
    "    if s[i]!=s[i+1]:\n",
    "        print(s[i],end=\"\")"
   ]
  },
  {
   "cell_type": "markdown",
   "metadata": {},
   "source": [
    "## Reverse Each Word"
   ]
  },
  {
   "cell_type": "code",
   "execution_count": null,
   "metadata": {},
   "outputs": [],
   "source": [
    "s=input()\n",
    "new=s.split()\n",
    "for i in range(len(new)):\n",
    "    sad=new[i][::-1]\n",
    "    print(sad,end=\" \")"
   ]
  },
  {
   "cell_type": "markdown",
   "metadata": {},
   "source": [
    "## Remove character"
   ]
  },
  {
   "cell_type": "code",
   "execution_count": null,
   "metadata": {},
   "outputs": [],
   "source": [
    "from sys import stdin\n",
    "\n",
    "\n",
    "def removeAllOccurrencesOfChar(string, ch) :\n",
    "    n = len(string)\n",
    "\n",
    "    ans = \"\"\n",
    "\n",
    "    for i in range(n) :\n",
    "        if string[i] != ch :\n",
    "            ans += string[i]\n",
    "\n",
    "    return ans\n",
    "\n",
    "#main\n",
    "string = stdin.readline().strip()\n",
    "ch = stdin.readline().strip()[0]\n",
    "\n",
    "ans = removeAllOccurrencesOfChar(string, ch)\n",
    "\n",
    "print(ans)"
   ]
  },
  {
   "cell_type": "markdown",
   "metadata": {},
   "source": [
    "## Highest Occuring Character"
   ]
  },
  {
   "cell_type": "code",
   "execution_count": null,
   "metadata": {},
   "outputs": [],
   "source": [
    "s=input()\n",
    "l=[]\n",
    "f=[]\n",
    "for c in s:\n",
    "    if c not in l:\n",
    "        f.append(s.count(c))\n",
    "        l.append(c)\n",
    "m=f.index(max(f))\n",
    "print(l[m])"
   ]
  },
  {
   "cell_type": "markdown",
   "metadata": {},
   "source": [
    "## Compress the String"
   ]
  },
  {
   "cell_type": "code",
   "execution_count": null,
   "metadata": {},
   "outputs": [],
   "source": [
    "def ab(a):\n",
    "    i=0\n",
    "    x=''\n",
    "    while(i<len(a)):\n",
    "        j=i+1\n",
    "        c=1\n",
    "        while j<len(a) and (a[i]==a[j]):\n",
    "            j+=1\n",
    "            c+=1\n",
    "        if c==1:\n",
    "            x+=a[i]\n",
    "        else:\n",
    "            x+=a[i]+str(c)\n",
    "        i=j\n",
    "    return x\n",
    "a=input()\n",
    "print(ab(a))"
   ]
  }
 ],
 "metadata": {
  "kernelspec": {
   "display_name": "Python 3",
   "language": "python",
   "name": "python3"
  },
  "language_info": {
   "codemirror_mode": {
    "name": "ipython",
    "version": 3
   },
   "file_extension": ".py",
   "mimetype": "text/x-python",
   "name": "python",
   "nbconvert_exporter": "python",
   "pygments_lexer": "ipython3",
   "version": "3.7.1"
  }
 },
 "nbformat": 4,
 "nbformat_minor": 2
}
