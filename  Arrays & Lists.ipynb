{
 "cells": [
  {
   "cell_type": "markdown",
   "metadata": {},
   "source": [
    "## Array Sum"
   ]
  },
  {
   "cell_type": "code",
   "execution_count": null,
   "metadata": {},
   "outputs": [],
   "source": [
    "p=input()\n",
    "arr = input().split()\n",
    "sum = 0\n",
    "for x in range(len(arr)):\n",
    "    p=int(arr[x])\n",
    "    sum=sum+p\n",
    "print(sum)"
   ]
  },
  {
   "cell_type": "markdown",
   "metadata": {},
   "source": [
    "## Swap Alternate"
   ]
  },
  {
   "cell_type": "code",
   "execution_count": null,
   "metadata": {},
   "outputs": [],
   "source": [
    "def swapAlternate (li):\n",
    "    length =len(li)\n",
    "    i = 0\n",
    "    for k in range(length//2):\n",
    "        li[i],li[i+1]=li[i+1],li[i]\n",
    "        i+=2\n",
    "    print(*li,end=\" \")\n",
    "    print()\n",
    "\n",
    "loop_cycle=int(input())\n",
    "for i in range(0, loop_cycle):\n",
    "    faltu = input()\n",
    "    lip = [int(x) for x in input().split()]\n",
    "    swapAlternate(lip)"
   ]
  },
  {
   "cell_type": "markdown",
   "metadata": {},
   "source": [
    "## Find Unique"
   ]
  },
  {
   "cell_type": "code",
   "execution_count": null,
   "metadata": {},
   "outputs": [],
   "source": [
    "t =int(input())\n",
    "c=1\n",
    "while c<=t:\n",
    "    n = int(input())\n",
    "    ele = [int(i) for i in input().split()]\n",
    "    i=0\n",
    "    while i < n:\n",
    "        for x in range(n):\n",
    "            if ele[i] == ele[x] and x != i:\n",
    "                break\n",
    "        else :\n",
    "            print(ele[i])\n",
    "        i=i+1\n",
    "    c=c+1"
   ]
  },
  {
   "cell_type": "markdown",
   "metadata": {},
   "source": [
    "## Find Duplicate"
   ]
  },
  {
   "cell_type": "code",
   "execution_count": null,
   "metadata": {},
   "outputs": [],
   "source": [
    "N = int(input())\n",
    "k=0\n",
    "while k<N:\n",
    "    n = int(input())\n",
    "    li = [int(x) for x in input().split()]\n",
    "    new_li = li.copy()\n",
    "    for i in range(n):\n",
    "        new_li[i] = -1\n",
    "        if li[i] in new_li:\n",
    "            print(li[i])\n",
    "            break\n",
    "    k+=1"
   ]
  },
  {
   "cell_type": "markdown",
   "metadata": {},
   "source": [
    "## Array Intersection"
   ]
  },
  {
   "cell_type": "code",
   "execution_count": null,
   "metadata": {},
   "outputs": [],
   "source": [
    "import sys\n",
    "\n",
    "def intersections(arr1, n, arr2, m):\n",
    "    for i in range(n):\n",
    "        for j in range(m):\n",
    "            if arr1[i] == arr2[j]:\n",
    "                print(arr1[i],end =\" \")\n",
    "                arr2[j] = sys.maxsize\n",
    "                break\n",
    "               \n",
    "\n",
    "def takeInput() :\n",
    "    n = int(sys.stdin.readline().strip())\n",
    "\n",
    "    if n == 0 :\n",
    "        return list(), 0\n",
    "\n",
    "    arr = list(map(int, sys.stdin.readline().strip().split(\" \")))\n",
    "    return arr, n\n",
    "\n",
    "\n",
    "\n",
    "#main\n",
    "t = int(sys.stdin.readline().strip())\n",
    "\n",
    "while t > 0 :\n",
    "    arr1 , n = takeInput()\n",
    "    arr2 , m = takeInput()\n",
    "    intersections(arr1, n, arr2, m)\n",
    "    print()\n",
    "    \n",
    "    t -= 1"
   ]
  },
  {
   "cell_type": "markdown",
   "metadata": {},
   "source": [
    "## Pair Sum"
   ]
  },
  {
   "cell_type": "code",
   "execution_count": null,
   "metadata": {},
   "outputs": [],
   "source": [
    "def duplicate (list1,sum):\n",
    "    sum_time=0\n",
    "    size=len(list1)\n",
    "    for i in range(0,size):\n",
    "        for j in range(i+1,size):\n",
    "            if list1[i] + list1[j]==sum:\n",
    "                sum_time+=1\n",
    "            else:\n",
    "                continue\n",
    "    print(sum_time)\n",
    "\n",
    "n=int(input()) #First Input\n",
    "for i in range(n):\n",
    "    faltu1=int(input()) #Secound input #no of ele in list\n",
    "    if faltu1!=0:\n",
    "        list = [int(x) for x in input().split()]\n",
    "    X=int(input()) #3rd Input\n",
    "    if faltu1!=0 :\n",
    "        duplicate(list,X)\n",
    "    else:\n",
    "        print(0)"
   ]
  },
  {
   "cell_type": "markdown",
   "metadata": {},
   "source": [
    "## Triplet Sum"
   ]
  },
  {
   "cell_type": "code",
   "execution_count": null,
   "metadata": {},
   "outputs": [],
   "source": [
    "def triplesum (list1,sum):\n",
    "    sum_time=0\n",
    "    n=len(list1)\n",
    "    for i in range(0,n):\n",
    "        for j in range(i+1,n):\n",
    "            for k in range(j+1,n):\n",
    "                if list1[i] + list1[j]+ list1[k]==sum:\n",
    "                    sum_time+=1\n",
    "                else:\n",
    "                    continue\n",
    "    print(sum_time)\n",
    "\n",
    "n=int(input())\n",
    "for i in range(n):\n",
    "    faltu1=int(input())\n",
    "    if faltu1!=0:\n",
    "        list = [int(x) for x in input().split()]\n",
    "    X=int(input())\n",
    "    if faltu1!=0 :\n",
    "        triplesum(list,X)\n",
    "    else:\n",
    "        print(0)"
   ]
  },
  {
   "cell_type": "markdown",
   "metadata": {},
   "source": [
    "## Sort 0 1"
   ]
  },
  {
   "cell_type": "code",
   "execution_count": null,
   "metadata": {},
   "outputs": [],
   "source": [
    "n=int(input())\n",
    "for i in range(n):\n",
    "    faltu=(input())\n",
    "    list1=[int(x) for x in input().split()]\n",
    "    sort_list1=sorted(list1)\n",
    "    for j in range(len(sort_list1)):\n",
    "        print(sort_list1[j],end=\" \")\n",
    "    print()"
   ]
  }
 ],
 "metadata": {
  "kernelspec": {
   "display_name": "Python 3",
   "language": "python",
   "name": "python3"
  },
  "language_info": {
   "codemirror_mode": {
    "name": "ipython",
    "version": 3
   },
   "file_extension": ".py",
   "mimetype": "text/x-python",
   "name": "python",
   "nbconvert_exporter": "python",
   "pygments_lexer": "ipython3",
   "version": "3.7.1"
  }
 },
 "nbformat": 4,
 "nbformat_minor": 2
}
