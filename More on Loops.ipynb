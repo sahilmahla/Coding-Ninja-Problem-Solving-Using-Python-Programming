{
 "cells": [
  {
   "cell_type": "markdown",
   "metadata": {},
   "source": [
    "## Binary Pattern"
   ]
  },
  {
   "cell_type": "code",
   "execution_count": null,
   "metadata": {},
   "outputs": [],
   "source": [
    "n=int(input())\n",
    "\n",
    "for i in range(1,n+1):\n",
    "    for j in range(n-i+1):\n",
    "        if i%2==0:\n",
    "            print('0',end='')\n",
    "        else:\n",
    "            print('1',end='')\n",
    "    print()        "
   ]
  },
  {
   "cell_type": "markdown",
   "metadata": {},
   "source": [
    "## Print Number Pyramid"
   ]
  },
  {
   "cell_type": "code",
   "execution_count": null,
   "metadata": {},
   "outputs": [],
   "source": [
    "n=int(input())\n",
    "for i in range(1,n+1):\n",
    "    for j in range(1,i):\n",
    "        print(\" \",end=\"\")\n",
    "    for l in range(i,n+1):\n",
    "        print(l,end=\"\")\n",
    "    print()\n",
    "for a in range(1,n):\n",
    "    for s in range(n-1-a,0,-1):\n",
    "        print(\" \",end=\"\")\n",
    "    for k in range(n-a,n+1):\n",
    "        print(k,end=\"\")\n",
    "    print()"
   ]
  },
  {
   "cell_type": "markdown",
   "metadata": {},
   "source": [
    "## Diamond of Stars"
   ]
  },
  {
   "cell_type": "code",
   "execution_count": null,
   "metadata": {},
   "outputs": [],
   "source": [
    "n=int(input())\n",
    "firstHalf=(n+1)//2\n",
    "secHalf=(n)//2\n",
    "\n",
    "#First Half\n",
    "currRow=1\n",
    "while currRow<=firstHalf:\n",
    "    spaces=1\n",
    "    while spaces<=(firstHalf-currRow):\n",
    "        print(' ',end=\"\")\n",
    "        spaces+=1\n",
    "    currcol=1\n",
    "    while currcol<=(2*currRow)-1:\n",
    "        print(\"*\",end=\"\")\n",
    "        currcol+=1\n",
    "    print()\n",
    "    currRow+=1\n",
    "\n",
    "#Secound Half\n",
    "currRow=secHalf\n",
    "while currRow>=1:\n",
    "    spaces=1\n",
    "    while spaces<=(secHalf-currRow+1):\n",
    "        print(\" \",end=\"\")\n",
    "        spaces+=1\n",
    "    currcol=1\n",
    "    while currcol<=(2*currRow)-1:\n",
    "        print(\"*\",end=\"\")\n",
    "        currcol+=1\n",
    "    print()\n",
    "    currRow-=1"
   ]
  },
  {
   "cell_type": "markdown",
   "metadata": {},
   "source": [
    "## Rectangular numbers"
   ]
  },
  {
   "cell_type": "code",
   "execution_count": null,
   "metadata": {},
   "outputs": [],
   "source": [
    "lines=int(input())\n",
    "chars=2*lines\n",
    "for i in range (1,chars):\n",
    "    k=lines\n",
    "    for j in range(1,chars):\n",
    "        print(k,end='')\n",
    "        if j<i:\n",
    "            k-=1\n",
    "        if j>=2*lines-i:\n",
    "            k+=1\n",
    "    print()"
   ]
  },
  {
   "cell_type": "markdown",
   "metadata": {},
   "source": [
    "## Print the pattern"
   ]
  },
  {
   "cell_type": "code",
   "execution_count": null,
   "metadata": {},
   "outputs": [],
   "source": [
    "n=int(input())\n",
    "startvalue=1\n",
    "for i in range(1,n+1):\n",
    "    for j in range(startvalue,startvalue+n):\n",
    "        print(j,end=\" \")\n",
    "    print()\n",
    "    if i==(n+1)//2:\n",
    "        if n%2!=0:\n",
    "            startvalue=n*(n-2)+1\n",
    "        else:\n",
    "            startvalue=n*(n-1)+1\n",
    "    elif i>(n+1)//2:\n",
    "        startvalue=startvalue-2*n\n",
    "    else:\n",
    "        startvalue=startvalue+2*n"
   ]
  }
 ],
 "metadata": {
  "kernelspec": {
   "display_name": "Python 3",
   "language": "python",
   "name": "python3"
  },
  "language_info": {
   "codemirror_mode": {
    "name": "ipython",
    "version": 3
   },
   "file_extension": ".py",
   "mimetype": "text/x-python",
   "name": "python",
   "nbconvert_exporter": "python",
   "pygments_lexer": "ipython3",
   "version": "3.7.1"
  }
 },
 "nbformat": 4,
 "nbformat_minor": 2
}
