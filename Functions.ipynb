{
 "cells": [
  {
   "cell_type": "markdown",
   "metadata": {},
   "source": [
    "## Fahrenheit to Celsius Function"
   ]
  },
  {
   "cell_type": "code",
   "execution_count": null,
   "metadata": {},
   "outputs": [],
   "source": [
    "def printTable(s,e,w):\n",
    "    while s <= e:\n",
    "        F_C = (((s - 32) * 5) / 9)\n",
    "        print(s, int(F_C))\n",
    "        s = s + w\n",
    "  \n",
    "s = int(input())\n",
    "e = int(input())\n",
    "w = int(input())\n",
    "printTable(s,e,w)"
   ]
  },
  {
   "cell_type": "markdown",
   "metadata": {},
   "source": [
    "## Fibonacci Member"
   ]
  },
  {
   "cell_type": "code",
   "execution_count": null,
   "metadata": {},
   "outputs": [],
   "source": [
    "def checkMember(n):\n",
    "    if n==0 or n==1 or n==2:\n",
    "        return True\n",
    "    a=0\n",
    "    b=1\n",
    "    while b<n:\n",
    "        c=a+b\n",
    "        a=b\n",
    "        b=c\n",
    "    if b==n:\n",
    "        return True\n",
    "    return False\n",
    "    \n",
    "\n",
    "n=int(input())\n",
    "if(checkMember(n)):\n",
    "    print(\"true\")\n",
    "else:\n",
    "    print(\"false\")"
   ]
  },
  {
   "cell_type": "markdown",
   "metadata": {},
   "source": [
    "## Palindrome number"
   ]
  },
  {
   "cell_type": "code",
   "execution_count": null,
   "metadata": {},
   "outputs": [],
   "source": [
    "def checkPalindrome(num):\n",
    "    r=0\n",
    "    t=num\n",
    "    while t>0:\n",
    "        rem=t%10\n",
    "        r= r*10+rem\n",
    "        t=t//10\n",
    "        if num==r:\n",
    "            return True\n",
    "    return False    \n",
    "    \n",
    "\n",
    "num = int(input())\n",
    "isPalindrome = checkPalindrome(num)\n",
    "if(isPalindrome):\n",
    "    print('true')\n",
    "else:\n",
    "    print('false')"
   ]
  },
  {
   "cell_type": "code",
   "execution_count": null,
   "metadata": {},
   "outputs": [],
   "source": [
    "def checkpalin(n):\n",
    "    if n==n[::-1]:\n",
    "        print(\"true\")\n",
    "    else:\n",
    "        print(\"false\")\n",
    "\n",
    "n=input() \n",
    "checkpalin(n)"
   ]
  },
  {
   "cell_type": "markdown",
   "metadata": {},
   "source": [
    "## Check Armstrong"
   ]
  },
  {
   "cell_type": "code",
   "execution_count": null,
   "metadata": {},
   "outputs": [],
   "source": [
    "n=int(input())\n",
    "no_of_digits=0\n",
    "org_n=n\n",
    "orginal_no=n\n",
    "Armstrong=0\n",
    "while n>0:\n",
    "    no_of_digits+=1\n",
    "    n=n//10\n",
    "while org_n>0:\n",
    "    Last_Digit = org_n % 10\n",
    "    Armstrong  = Armstrong  + ((Last_Digit)**(no_of_digits))\n",
    "    org_n = (org_n //10)\n",
    "if orginal_no==Armstrong:\n",
    "    print(\"true\")\n",
    "else:\n",
    "    print(\"false\")"
   ]
  }
 ],
 "metadata": {
  "kernelspec": {
   "display_name": "Python 3",
   "language": "python",
   "name": "python3"
  },
  "language_info": {
   "codemirror_mode": {
    "name": "ipython",
    "version": 3
   },
   "file_extension": ".py",
   "mimetype": "text/x-python",
   "name": "python",
   "nbconvert_exporter": "python",
   "pygments_lexer": "ipython3",
   "version": "3.7.1"
  }
 },
 "nbformat": 4,
 "nbformat_minor": 2
}
