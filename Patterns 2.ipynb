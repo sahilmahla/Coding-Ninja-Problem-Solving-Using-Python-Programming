{
 "cells": [
  {
   "cell_type": "markdown",
   "metadata": {},
   "source": [
    "## Code : Inverted Number Pattern"
   ]
  },
  {
   "cell_type": "code",
   "execution_count": null,
   "metadata": {},
   "outputs": [],
   "source": [
    "n=int(input())\n",
    "i=1\n",
    "while i<=n:\n",
    "    j=1\n",
    "    while j<=n-i+1:\n",
    "        print(n-i+1,end='')\n",
    "        j=j+1\n",
    "\n",
    "    print()\n",
    "    i+=1"
   ]
  },
  {
   "cell_type": "markdown",
   "metadata": {},
   "source": [
    "## Code : Mirror Number Pattern"
   ]
  },
  {
   "cell_type": "code",
   "execution_count": null,
   "metadata": {},
   "outputs": [],
   "source": [
    "n=int(input())\n",
    "i=1\n",
    "while i<=n:\n",
    "    j=1\n",
    "    while j<=n-i:\n",
    "        print(\" \",end='')\n",
    "        j=j+1\n",
    "    k=0\n",
    "    while k<i:\n",
    "        print(k+1,end='')\n",
    "        k+=1\n",
    "    print()\n",
    "    i+=1"
   ]
  },
  {
   "cell_type": "markdown",
   "metadata": {},
   "source": [
    "## Code : Star Pattern"
   ]
  },
  {
   "cell_type": "code",
   "execution_count": null,
   "metadata": {},
   "outputs": [],
   "source": [
    "n=int(input())\n",
    "i=1\n",
    "while i<=n:\n",
    "    j=1\n",
    "    while j<=n-i:\n",
    "        print(\" \",end='')\n",
    "        j=j+1\n",
    "    k=0\n",
    "    while k<i:\n",
    "        print('*',end='')\n",
    "        k+=1\n",
    "    p=i-1\n",
    "    while p>0:\n",
    "        print('*',end='')\n",
    "        p-=1\n",
    "    print()\n",
    "    i+=1"
   ]
  },
  {
   "cell_type": "markdown",
   "metadata": {},
   "source": [
    "## Code : Triangle of Numbers"
   ]
  },
  {
   "cell_type": "code",
   "execution_count": null,
   "metadata": {},
   "outputs": [],
   "source": [
    "n=int(input())\n",
    "i=1\n",
    "while i<=n:\n",
    "    j=1\n",
    "    while j<=n-i:\n",
    "        print(\" \",end='')\n",
    "        j=j+1\n",
    "    k=1\n",
    "    while k<=i:\n",
    "        print(k+i-1,end='')\n",
    "        k+=1\n",
    "    p=i-1\n",
    "    while p>0:\n",
    "        print(p+i-1,end='')\n",
    "        p-=1\n",
    "    print()\n",
    "    i+=1"
   ]
  },
  {
   "cell_type": "markdown",
   "metadata": {},
   "source": [
    "## Code : Diamond of stars"
   ]
  },
  {
   "cell_type": "code",
   "execution_count": null,
   "metadata": {},
   "outputs": [],
   "source": [
    "\n",
    "n = int(input())\n",
    "i = 1\n",
    "n1 = (n - 1) / 2\n",
    "n = (n + 1) / 2\n",
    "while i <= n:\n",
    "    spaces = 2\n",
    "    while spaces <= i:\n",
    "        print(\" \", end=\"\")\n",
    "        spaces += 1\n",
    "    star = 1\n",
    "    while star <= i:\n",
    "        print(\"* \", end=\"\")\n",
    "        star += 1\n",
    "    print(\"\")\n",
    "    i = i + 1\n",
    "\n",
    "i = 1\n",
    "g = 0\n",
    "while i <= n1:\n",
    "    num_1 = n1 - 1\n",
    "    while num_1 >= i:\n",
    "        print(\" \", end=\"\")\n",
    "        num_1 -= 1\n",
    "\n",
    "    num_1 = n1 - 1\n",
    "    while num_1 >= g:\n",
    "        print(\"* \", end=\"\")\n",
    "        num_1 -= 1\n",
    "    print()\n",
    "    i = i + 1\n",
    "    g = g + 1"
   ]
  },
  {
   "cell_type": "markdown",
   "metadata": {},
   "source": [
    "## Number Pattern"
   ]
  },
  {
   "cell_type": "code",
   "execution_count": null,
   "metadata": {},
   "outputs": [],
   "source": [
    "n=int(input())\n",
    "totalspace=n*2-2\n",
    "row=1\n",
    "while(row<=n):\n",
    "    column=1\n",
    "    while column<=row:\n",
    "        print(column,end='')\n",
    "        column=column+1\n",
    "    space=1\n",
    "    while space<=totalspace:\n",
    "        print(' ',end=\"\")\n",
    "        space+=1\n",
    "    totalspace-=2\n",
    "    column=row\n",
    "    while column>0:\n",
    "        print(column,end='')\n",
    "        column-=1\n",
    "    row+=1\n",
    "    print()"
   ]
  },
  {
   "cell_type": "markdown",
   "metadata": {},
   "source": [
    "## Zeros and Stars Pattern"
   ]
  },
  {
   "cell_type": "code",
   "execution_count": null,
   "metadata": {},
   "outputs": [],
   "source": [
    "n=int(input())\n",
    "start=1\n",
    "end=2*n+1\n",
    "mid=n+1\n",
    "row=1\n",
    "while(row<=n):\n",
    "    column=1\n",
    "    while column<=(2*n+1):\n",
    "        if column==start or column==end or column==mid:\n",
    "            print(\"*\",end='')\n",
    "        else:\n",
    "            print(\"0\",end=\"\")\n",
    "        column=column+1\n",
    "    start=start+1\n",
    "    end=end-1\n",
    "    row=row+1\n",
    "    print()"
   ]
  },
  {
   "cell_type": "markdown",
   "metadata": {},
   "source": [
    "## Pyramid Number Pattern"
   ]
  },
  {
   "cell_type": "code",
   "execution_count": null,
   "metadata": {},
   "outputs": [],
   "source": [
    "n = int(input())\n",
    "num = 1\n",
    "gap = n - 1\n",
    "for j in range(1, n + 1):\n",
    "    num = j\n",
    "    for i in range(1, gap + 1):\n",
    "        print(\" \", end=\"\")\n",
    "    gap = gap - 1\n",
    "\n",
    "    for i in range(1, j + 1):\n",
    "        print(num, end=\"\")\n",
    "        num-=1\n",
    "    num=2\n",
    "    for i in range(1, j):\n",
    "        print(num, end=\"\")\n",
    "        num+=1\n",
    "\n",
    "    print()"
   ]
  },
  {
   "cell_type": "markdown",
   "metadata": {},
   "source": [
    "## Arrow pattern"
   ]
  },
  {
   "cell_type": "code",
   "execution_count": null,
   "metadata": {},
   "outputs": [],
   "source": [
    "n = int(input())\n",
    "i = 1\n",
    "n1 = (n - 1) / 2\n",
    "n = (n + 1) / 2\n",
    "while i <= n:\n",
    "    spaces = 2\n",
    "    while spaces <= i:\n",
    "        print(\" \", end=\"\")\n",
    "        spaces += 1\n",
    "    star = 1\n",
    "    while star <= i:\n",
    "        print(\"* \", end=\"\")\n",
    "        star += 1\n",
    "    print(\"\")\n",
    "    i = i + 1\n",
    "\n",
    "i = 1\n",
    "g = 0\n",
    "while i <= n1:\n",
    "    num_1 = n1 - 1\n",
    "    while num_1 >= i:\n",
    "        print(\" \", end=\"\")\n",
    "        num_1 -= 1\n",
    "\n",
    "    num_1 = n1 - 1\n",
    "    while num_1 >= g:\n",
    "        print(\"* \", end=\"\")\n",
    "        num_1 -= 1\n",
    "    print()\n",
    "    i = i + 1\n",
    "    g = g + 1"
   ]
  }
 ],
 "metadata": {
  "kernelspec": {
   "display_name": "Python 3",
   "language": "python",
   "name": "python3"
  },
  "language_info": {
   "codemirror_mode": {
    "name": "ipython",
    "version": 3
   },
   "file_extension": ".py",
   "mimetype": "text/x-python",
   "name": "python",
   "nbconvert_exporter": "python",
   "pygments_lexer": "ipython3",
   "version": "3.7.1"
  }
 },
 "nbformat": 4,
 "nbformat_minor": 2
}
