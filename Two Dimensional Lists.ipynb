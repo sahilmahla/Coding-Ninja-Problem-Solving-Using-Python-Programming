{
 "cells": [
  {
   "cell_type": "markdown",
   "metadata": {},
   "source": [
    "## Row Wise Sum"
   ]
  },
  {
   "cell_type": "code",
   "execution_count": null,
   "metadata": {},
   "outputs": [],
   "source": [
    "t=int(input())\n",
    "for i in range(t):\n",
    "    str=input().split()\n",
    "    n,m=int(str[0]),int(str[1])\n",
    "    arry=[]\n",
    "    for i in range(n):\n",
    "        sum=0\n",
    "        arry=[int(x) for x in input().split()]\n",
    "        for i in range(m):\n",
    "            sum=sum+arry[i]\n",
    "        print(sum,end=' ') \n",
    "    print()    "
   ]
  },
  {
   "cell_type": "markdown",
   "metadata": {},
   "source": [
    "## Largest Row or Column"
   ]
  },
  {
   "cell_type": "code",
   "execution_count": null,
   "metadata": {},
   "outputs": [],
   "source": [
    "from sys import stdin\n",
    "MIN_VALUE=-2147483648\n",
    "def findLargest(arr, nRows, mCols):\n",
    "    #Your code goes here\n",
    "    isRow =True\n",
    "    largestSum=MIN_VALUE\n",
    "    num=0\n",
    "    for i in range(nRows):\n",
    "        rowSum=0\n",
    "        for j in range(mCols):\n",
    "            rowSum+=arr[i][j]\n",
    "        if rowSum>largestSum:\n",
    "            largestSum=rowSum\n",
    "            num=i\n",
    "    for j in range(mCols):\n",
    "        colSum=0\n",
    "        for i in range(nRows):\n",
    "            colSum+=arr[i][j]\n",
    "        if colSum>largestSum:\n",
    "            largestSum=colSum\n",
    "            num=j\n",
    "            isRow=False\n",
    "    if isRow:\n",
    "        print(\"row \"+str(num)+\" \"+str(largestSum))\n",
    "    else:\n",
    "        print(\"column \"+str(num)+\" \"+str(largestSum))\n",
    "#Taking Input Using Fast I/O\n",
    "def take2DInput() :\n",
    "    li = stdin.readline().rstrip().split(\" \")\n",
    "    nRows = int(li[0])\n",
    "    mCols = int(li[1])\n",
    "    \n",
    "    if nRows == 0 :\n",
    "        return list(), 0, 0\n",
    "    \n",
    "    mat = [list(map(int, input().strip().split(\" \"))) for row in range(nRows)]\n",
    "    return mat, nRows, mCols\n",
    "\n",
    "\n",
    "#main\n",
    "t = int(stdin.readline().rstrip())\n",
    "\n",
    "while t > 0 :\n",
    "\n",
    "    mat, nRows, mCols = take2DInput()\n",
    "    findLargest(mat, nRows, mCols)\n",
    "\n",
    "    t -= 1"
   ]
  },
  {
   "cell_type": "markdown",
   "metadata": {},
   "source": [
    "## Wave Print"
   ]
  },
  {
   "cell_type": "code",
   "execution_count": null,
   "metadata": {},
   "outputs": [],
   "source": [
    "from sys import stdin\n",
    "\n",
    "def wavePrint(mat, nRows, mCols):\n",
    "    #Your code goes here\n",
    "    if nRows==0:\n",
    "        return\n",
    "    for i in range(mCols):\n",
    "        if i%2==0:\n",
    "            for j in range(nRows):\n",
    "                print(mat[j][i],end=\" \")\n",
    "        else:\n",
    "            for j in range(nRows-1,-1,-1):\n",
    "                print(mat[j][i],end=\" \")\n",
    "\n",
    "#Taking Iput Using Fast I/O\n",
    "def take2DInput() :\n",
    "    li = stdin.readline().rstrip().split(\" \")\n",
    "    nRows = int(li[0])\n",
    "    mCols = int(li[1])\n",
    "    \n",
    "    if nRows == 0 :\n",
    "        return list(), 0, 0\n",
    "    \n",
    "    mat = [list(map(int, input().strip().split(\" \"))) for row in range(nRows)]\n",
    "    return mat, nRows, mCols\n",
    "\n",
    "\n",
    "#main\n",
    "t = int(stdin.readline().rstrip())\n",
    "\n",
    "while t > 0 :\n",
    "\n",
    "    mat, nRows, mCols = take2DInput()\n",
    "    wavePrint(mat, nRows, mCols)\n",
    "    print()\n",
    "\n",
    "    t -= 1"
   ]
  },
  {
   "cell_type": "markdown",
   "metadata": {},
   "source": [
    "## Spiral Print"
   ]
  },
  {
   "cell_type": "code",
   "execution_count": null,
   "metadata": {},
   "outputs": [],
   "source": [
    "from sys import stdin\n",
    "\n",
    "def spiralPrint(mat, nRows, mCols):\n",
    "    loop=nRows\n",
    "    if loop%2!=0:\n",
    "        loop+=1\n",
    "    for i in range(loop//2):\n",
    "        for j in range(i,mCols-i):\n",
    "            print(mat[i][j],end=\" \")\n",
    "        for k in range(1+i,nRows-i):\n",
    "            print(mat[k][j],end=\" \")\n",
    "        for l in range(mCols-2-i,-1+i,-1):\n",
    "            print(mat[k][l],end=\" \")\n",
    "        for p in range(nRows-2-i,0+i,-1):\n",
    "            print(mat[p][l],end=\" \")\n",
    "\n",
    "#Taking Input Using Fast I/O\n",
    "def take2DInput() :\n",
    "    li = stdin.readline().rstrip().split(\" \")\n",
    "    nRows = int(li[0])\n",
    "    mCols = int(li[1])\n",
    "    \n",
    "    if nRows == 0 :\n",
    "        return list(), 0, 0\n",
    "    \n",
    "    mat = [list(map(int, input().strip().split(\" \"))) for row in range(nRows)]\n",
    "    return mat, nRows, mCols\n",
    "\n",
    "\n",
    "#main\n",
    "t = int(stdin.readline().rstrip())\n",
    "\n",
    "while t > 0 :\n",
    "\n",
    "    mat, nRows, mCols = take2DInput()\n",
    "    spiralPrint(mat, nRows, mCols)\n",
    "    print()\n",
    "\n",
    "    t -= 1"
   ]
  }
 ],
 "metadata": {
  "kernelspec": {
   "display_name": "Python 3",
   "language": "python",
   "name": "python3"
  },
  "language_info": {
   "codemirror_mode": {
    "name": "ipython",
    "version": 3
   },
   "file_extension": ".py",
   "mimetype": "text/x-python",
   "name": "python",
   "nbconvert_exporter": "python",
   "pygments_lexer": "ipython3",
   "version": "3.7.1"
  }
 },
 "nbformat": 4,
 "nbformat_minor": 2
}
