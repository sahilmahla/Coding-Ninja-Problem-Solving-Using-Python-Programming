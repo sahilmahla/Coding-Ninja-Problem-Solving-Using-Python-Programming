{
 "cells": [
  {
   "cell_type": "markdown",
   "metadata": {},
   "source": [
    "## Code Binary Search"
   ]
  },
  {
   "cell_type": "code",
   "execution_count": null,
   "metadata": {},
   "outputs": [],
   "source": [
    "def binarysearch(arr):\n",
    "    element = int(input())\n",
    "    start = 0\n",
    "    end = len(arr)-1\n",
    "    while start<=end:\n",
    "        mid = (start+end)//2\n",
    "        if(arr[mid] ==element):\n",
    "            return mid\n",
    "        elif (arr[mid]<element):\n",
    "            start = mid+1\n",
    "        else:\n",
    "            end = mid-1\n",
    "    return -1\n",
    "n= int(input())\n",
    "if n!=0:\n",
    "    arr=[int(x) for x in input().split()]\n",
    "else:\n",
    "    arr=[0]\n",
    "m=int(input())\n",
    "for i in range(m):\n",
    "    print(binarysearch(arr))"
   ]
  },
  {
   "cell_type": "markdown",
   "metadata": {},
   "source": [
    "## Code Bubble Sort"
   ]
  },
  {
   "cell_type": "code",
   "execution_count": null,
   "metadata": {},
   "outputs": [],
   "source": [
    "def bubblesort(list):\n",
    "    length=len(list)\n",
    "    for i in range(length-1):\n",
    "        for j in range(length-i-1):\n",
    "            if list[j]>list[j+1]:\n",
    "                list[j],list[j+1]=list[j+1],list[j]\n",
    "    for k in range(len(list)):\n",
    "        print(list[k],end=\" \")\n",
    "    print()\n",
    "    \n",
    "    \n",
    "loop=int(input())\n",
    "n=1\n",
    "if n!=0:\n",
    "    for p in range(loop):\n",
    "        n=int(input())\n",
    "        list = [int(x) for x in input().split()]\n",
    "        bubblesort(list)"
   ]
  },
  {
   "cell_type": "markdown",
   "metadata": {},
   "source": [
    "## Code Insertion Sort"
   ]
  },
  {
   "cell_type": "code",
   "execution_count": null,
   "metadata": {},
   "outputs": [],
   "source": [
    "def insertsort(arr):\n",
    "    length=len(arr)\n",
    "    for i in range(1,length):\n",
    "        j=i-1\n",
    "        temp=arr[i]\n",
    "        while(j>=0 and arr[j]>temp):\n",
    "            arr[j+1]=arr[j]\n",
    "            j=j-1\n",
    "        arr[j+1]=temp\n",
    "loop=int(input())\n",
    "arr=[]\n",
    "for p in range(loop):\n",
    "    ele=int(input())\n",
    "    if ele!=0:\n",
    "        arr=[int(r) for r in input().split()]\n",
    "    else:\n",
    "        break\n",
    "    insertsort(arr)\n",
    "    print(*arr,\" \")"
   ]
  },
  {
   "cell_type": "markdown",
   "metadata": {},
   "source": [
    "## Code Merge Two Sorted Arrays"
   ]
  },
  {
   "cell_type": "code",
   "execution_count": null,
   "metadata": {},
   "outputs": [],
   "source": [
    "def mergesorted(arr1, arr2):\n",
    "    i = 0\n",
    "    j = 0\n",
    "    len1 = len(arr1)\n",
    "    len2 = len(arr2)\n",
    "    arr = []\n",
    "    while ((i < len1) and (j < len2)):\n",
    "        if (arr1[i] < arr2[j]):\n",
    "            arr.append(arr1[i])\n",
    "            i += 1\n",
    "        else:\n",
    "            arr.append(arr2[j])\n",
    "            j += 1\n",
    "    while (i < len1):\n",
    "        arr.append(arr1[i])\n",
    "        i += 1\n",
    "    while (j < len2):\n",
    "        arr.append(arr2[j])\n",
    "        j += 1\n",
    "    return arr\n",
    "\n",
    "\n",
    "loop = int(input())\n",
    "for l in range(loop):\n",
    "    arr1 = []\n",
    "    arr2 = []\n",
    "    ele1=int(input())\n",
    "    if ele1!=0:\n",
    "        arr1=[int(c) for c in input().split()]\n",
    "    ele2=int(input())\n",
    "    if ele2!=0:\n",
    "        arr2=[int(v) for v in input().split()]\n",
    "    arr=mergesorted(arr1,arr2)\n",
    "    print(*arr)"
   ]
  },
  {
   "cell_type": "markdown",
   "metadata": {},
   "source": [
    "## Push Zeros to end"
   ]
  },
  {
   "cell_type": "code",
   "execution_count": null,
   "metadata": {},
   "outputs": [],
   "source": [
    "loop=int(input())\n",
    "for i in range(loop):\n",
    "    no_element=input()\n",
    "    n=input().split()\n",
    "    n.sort(key='0'.__eq__)\n",
    "    for k in range(len(n)):\n",
    "        print(n[k],end=' ')\n",
    "    print()"
   ]
  },
  {
   "cell_type": "markdown",
   "metadata": {},
   "source": [
    "## Rotate array"
   ]
  },
  {
   "cell_type": "code",
   "execution_count": null,
   "metadata": {},
   "outputs": [],
   "source": [
    "loop=int(input())\n",
    "n=[]\n",
    "n1=[]\n",
    "for i in range(loop):\n",
    "    no_of_ele=int(input())\n",
    "    if no_of_ele !=0:\n",
    "        n=[int(x) for x in input().split()]\n",
    "    no_rotate=int(input())\n",
    "    if no_of_ele!=no_rotate:\n",
    "        n1=n[no_rotate:]\n",
    "        n1.extend(n[0:no_rotate])       \n",
    "    print(*n1)"
   ]
  },
  {
   "cell_type": "markdown",
   "metadata": {},
   "source": [
    "## Second Largest in array"
   ]
  },
  {
   "cell_type": "code",
   "execution_count": null,
   "metadata": {},
   "outputs": [],
   "source": [
    "loop=int(input())\n",
    "for p in range(loop):\n",
    "    list1=[]\n",
    "    n = int(input())\n",
    "    if n!=0:\n",
    "        list1=[int(x) for x in input().split()]\n",
    "        size = len(list1)\n",
    "        first = list1.count(list1[1])\n",
    "\n",
    "    if n<=1:\n",
    "        print(-2147483648)\n",
    "\n",
    "    elif first==size:\n",
    "        print(-2147483648)\n",
    "    else:\n",
    "        maxno=max(list1)\n",
    "        maxcount=list1.count(maxno)\n",
    "        for i in range(maxcount):\n",
    "            list1.remove(maxno)\n",
    "            list1.sort()\n",
    "        print(list1[-1])"
   ]
  },
  {
   "cell_type": "markdown",
   "metadata": {},
   "source": [
    "## Check Array Rotation"
   ]
  },
  {
   "cell_type": "code",
   "execution_count": null,
   "metadata": {},
   "outputs": [],
   "source": [
    "loop=int(input())\n",
    "list1=[]\n",
    "for i in range(loop):\n",
    "    ele=int(input())\n",
    "    if ele!=0:\n",
    "        list1=[int(x) for x in input().split()]\n",
    "    else:\n",
    "        print(0)\n",
    "        break\n",
    "    list2=list1.copy()\n",
    "    list2.sort()\n",
    "    f1=list2[0]\n",
    "    print(list1.index(f1))"
   ]
  },
  {
   "cell_type": "markdown",
   "metadata": {},
   "source": [
    "## Sort 0 1 2"
   ]
  },
  {
   "cell_type": "code",
   "execution_count": null,
   "metadata": {},
   "outputs": [],
   "source": [
    "loop=int(input())\n",
    "list=[]\n",
    "for i in range(loop):\n",
    "    no_of_ele=int(input())\n",
    "    if no_of_ele!=0:\n",
    "        list=[int(x) for x in input().split()]\n",
    "    list.sort()\n",
    "    print(*list)"
   ]
  },
  {
   "cell_type": "markdown",
   "metadata": {},
   "source": [
    "## Sum of Two Arrays"
   ]
  },
  {
   "cell_type": "code",
   "execution_count": null,
   "metadata": {},
   "outputs": [],
   "source": [
    "def sumArray(arr1,n,arr2,m,output):\n",
    "    i=n-1\n",
    "    j=m-1\n",
    "    carry=0\n",
    "    l=max(n,m)+1\n",
    "    while i>=0 and j>=0:\n",
    "        num=arr1[i]+arr2[j]+carry\n",
    "        s=num%10\n",
    "        carry=num//10\n",
    "        output[l-1]=s\n",
    "        l=l-1\n",
    "        i=i-1\n",
    "        j=j-1\n",
    "    while i>=0:\n",
    "        num=arr1[i]+carry\n",
    "        s=num%10\n",
    "        carry=num//10\n",
    "        output[l-1]=s\n",
    "        l=l-1\n",
    "        i=i-1\n",
    "    while j>=0:\n",
    "        num=arr2[j]+carry\n",
    "        s=num%10\n",
    "        carry=num//10\n",
    "        output[l-1]=s\n",
    "        l=l-1\n",
    "        j=j-1\n",
    "    if carry!=0:\n",
    "        output[0]=carry\n",
    "        \n",
    "    \n",
    "    \n",
    "t=int(input())\n",
    "for i in range(t):\n",
    "    n=int(input())\n",
    "    if n==0:\n",
    "        print(0)\n",
    "        break\n",
    "    arr1=[int(x) for x in input().split()]\n",
    "    m=int(input())\n",
    "    arr2=[int(x) for x in input().split()]\n",
    "    size=max(n,m)+1\n",
    "    output=[0 for i in range(size)]\n",
    "    sumArray(arr1,n,arr2,m,output)\n",
    "    print(*output)\n",
    "    print()        "
   ]
  }
 ],
 "metadata": {
  "kernelspec": {
   "display_name": "Python 3",
   "language": "python",
   "name": "python3"
  },
  "language_info": {
   "codemirror_mode": {
    "name": "ipython",
    "version": 3
   },
   "file_extension": ".py",
   "mimetype": "text/x-python",
   "name": "python",
   "nbconvert_exporter": "python",
   "pygments_lexer": "ipython3",
   "version": "3.7.1"
  }
 },
 "nbformat": 4,
 "nbformat_minor": 2
}
